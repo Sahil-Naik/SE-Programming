{
 "cells": [
  {
   "cell_type": "markdown",
   "id": "ccbe1fc3",
   "metadata": {},
   "source": [
    "# Group B\n",
    "***\n",
    "### Assignment 16\n",
    "Working with sort algorithms\n",
    "\n",
    "### Problem Statement\n",
    "Write a Python program to store first year students percentage in array and then do the following on the array.<br>\n",
    "1) Quick Sort <br>\n",
    "\n",
    "#### Quick Sort - \n",
    "The key process in quickSort is partition(). Target of partitions is, given an array and an element x of array as pivot, put x at its correct position in sorted array and put all smaller elements (smaller than x) before x, and put all greater elements (greater than x) after x. All this should be done in linear time. "
   ]
  },
  {
   "cell_type": "code",
   "execution_count": 24,
   "id": "1434a885",
   "metadata": {},
   "outputs": [
    {
     "name": "stdout",
     "output_type": "stream",
     "text": [
      "Unsorted Array is :\n",
      " [91.444, 67.094, 81.893, 71.935, 68.643, 75.952, 85.27, 80.273, 70.644, 55.97, 72.743, 90.914, 61.735, 76.9, 64.326, 63.976, 59.025, 98.624, 96.207, 67.505, 79.351, 64.553, 56.513, 78.243, 88.434, 59.155, 86.516, 96.779, 66.792, 92.981, 65.596, 74.882, 83.532, 90.541, 93.177, 78.085, 73.306, 80.125, 65.935, 70.735, 70.13, 55.746, 80.975, 59.565, 66.845, 70.028, 98.824, 80.399, 61.399, 73.495, 96.478, 68.889, 85.633, 76.149, 59.998, 71.907, 64.165, 94.146, 87.278, 93.159]\n",
      "\n",
      "Sorted array is :\n",
      "55.746\t\t55.97\t\t56.513\t\t59.025\t\t59.155\t\t59.565\t\t59.998\t\t61.399\t\t61.735\t\t63.976\t\t64.165\t\t64.326\t\t64.553\t\t65.596\t\t65.935\t\t66.792\t\t66.845\t\t67.094\t\t67.505\t\t68.643\t\t68.889\t\t70.028\t\t70.13\t\t70.644\t\t70.735\t\t71.907\t\t71.935\t\t72.743\t\t73.306\t\t73.495\t\t74.882\t\t75.952\t\t76.149\t\t76.9\t\t78.085\t\t78.243\t\t79.351\t\t80.125\t\t80.273\t\t80.399\t\t80.975\t\t81.893\t\t83.532\t\t85.27\t\t85.633\t\t86.516\t\t87.278\t\t88.434\t\t90.541\t\t90.914\t\t91.444\t\t92.981\t\t93.159\t\t93.177\t\t94.146\t\t96.207\t\t96.478\t\t96.779\t\t98.624\t\t98.824\t\t"
     ]
    }
   ],
   "source": [
    "import random\n",
    "\n",
    "stu_perc = []\n",
    "for i in range(random.randint(59,66)):\n",
    "    stu_perc.append(round(random.uniform(55.0,98.9),3))\n",
    "    \n",
    "print(\"Unsorted Array is :\\n\", stu_perc)\n",
    "\n",
    "\n",
    "# Function to create partition of given array\n",
    "# Parameters :- \n",
    "# array = Array to be sorted\n",
    "# low = Starting Index of given array\n",
    "# high = Ending Index of given array\n",
    "\n",
    "def partition(array, low, high):\n",
    "    i = (low-1)         # Index of Smallest element\n",
    "    pivot = array[high]\n",
    "    for j in range(low, high):\n",
    "        if array[j] <= pivot:\n",
    "            i = i+1\n",
    "            array[i], array[j] = array[j], array[i]\n",
    "    array[i+1], array[high] = array[high], array[i+1]\n",
    "    return (i+1)\n",
    "\n",
    "def quick_sort(array, low, high):\n",
    "    if len(array) == 1:\n",
    "        return array\n",
    "    elif low < high:\n",
    "        parti = partition(array, low, high)\n",
    "        quick_sort(array, low, parti-1)\n",
    "        quick_sort(array, parti+1, high)\n",
    "        \n",
    "quick_sort(stu_perc, 0, (len(stu_perc)-1))\n",
    "print(\"\\nSorted array is :\")\n",
    "for j in range(len(stu_perc)):\n",
    "    print(stu_perc[j], end=\"\\t\\t\")"
   ]
  }
 ],
 "metadata": {
  "kernelspec": {
   "display_name": "Python 3",
   "language": "python",
   "name": "python3"
  },
  "language_info": {
   "codemirror_mode": {
    "name": "ipython",
    "version": 3
   },
   "file_extension": ".py",
   "mimetype": "text/x-python",
   "name": "python",
   "nbconvert_exporter": "python",
   "pygments_lexer": "ipython3",
   "version": "3.8.8"
  }
 },
 "nbformat": 4,
 "nbformat_minor": 5
}
