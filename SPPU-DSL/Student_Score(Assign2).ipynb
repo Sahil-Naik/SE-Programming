{
 "cells": [
  {
   "cell_type": "code",
   "execution_count": 5,
   "id": "66676700",
   "metadata": {},
   "outputs": [
    {
     "name": "stdout",
     "output_type": "stream",
     "text": [
      "Average Score of Class is : 68.55\n",
      "Highest score of the Class is : 98\n",
      "Lowest score of the Class is : 66\n",
      "Count of Students absent for Exam is : 9\n",
      "Marks with Highest Frequency is : 82\n"
     ]
    }
   ],
   "source": [
    "import random\n",
    "stu_roll = []\n",
    "stu_grd = []\n",
    "stu_att = []\n",
    "att = [\"Present\", \"Absent\", \"Present\", \"Present\", \"Present\", \"Present\", \"Present\"]\n",
    "for i1 in range(1,random.randint(58,66)):\n",
    "    stu_roll.append(i1)\n",
    "    stu_att.append(random.choice(att))\n",
    "    if stu_att[-1] == \"Absent\":\n",
    "        stu_grd.append(0)\n",
    "    else:\n",
    "        stu_grd.append(random.randint(65,98))\n",
    "\n",
    "# Function to display Average score of Class\n",
    "def Average_Class_Score():\n",
    "    print(\"Average Score of Class is : {:.2f}\".format((sum(stu_grd)/len(stu_grd))))\n",
    "Average_Class_Score()\n",
    "\n",
    "# Function to display highest score and lowest score of the class\n",
    "def Low_High():\n",
    "    stu_grd.sort()\n",
    "    print(\"Highest score of the Class is :\", max(stu_grd))\n",
    "    for i2 in stu_grd:\n",
    "        if i2 != 0:\n",
    "            print(\"Lowest score of the Class is :\", i2)\n",
    "            break\n",
    "Low_High()\n",
    "\n",
    "# Function to display students who were absent for the exam\n",
    "def Absent_Student():\n",
    "    count = 0\n",
    "    for i3 in stu_att:\n",
    "        if i3 == \"Absent\":\n",
    "            count += 1\n",
    "    print(\"Count of Students absent for Exam is :\",count)\n",
    "Absent_Student()\n",
    "\n",
    "# Function to display score with Highest frequency\n",
    "def High_Frequency_Score():\n",
    "    count1 = []\n",
    "    for i4 in stu_grd:\n",
    "        if i4 != 0:\n",
    "            cnt = stu_grd.count(i4)\n",
    "            count1.append(cnt)\n",
    "        else:\n",
    "            count1.append(0)\n",
    "    mx_indi = count1.index(max(count1))\n",
    "    print(\"Marks with Highest Frequency is :\",stu_grd[mx_indi])\n",
    "High_Frequency_Score()"
   ]
  }
 ],
 "metadata": {
  "kernelspec": {
   "display_name": "Python 3",
   "language": "python",
   "name": "python3"
  },
  "language_info": {
   "codemirror_mode": {
    "name": "ipython",
    "version": 3
   },
   "file_extension": ".py",
   "mimetype": "text/x-python",
   "name": "python",
   "nbconvert_exporter": "python",
   "pygments_lexer": "ipython3",
   "version": "3.8.8"
  }
 },
 "nbformat": 4,
 "nbformat_minor": 5
}
