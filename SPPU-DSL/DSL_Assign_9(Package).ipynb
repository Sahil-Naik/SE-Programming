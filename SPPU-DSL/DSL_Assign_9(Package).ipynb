{
 "cells": [
  {
   "cell_type": "code",
   "execution_count": 11,
   "id": "cb25bb36",
   "metadata": {},
   "outputs": [
    {
     "name": "stdout",
     "output_type": "stream",
     "text": [
      "Given Matrix are :\n",
      " [[1 2]\n",
      " [5 4]] \n",
      "\n",
      " [[0 3]\n",
      " [7 1]]\n",
      "\n",
      "Addition of given matrix is:\n",
      " [[ 1  5]\n",
      " [12  5]]\n",
      "\n",
      "Subtraction of given matrix is:\n",
      " [[ 1 -1]\n",
      " [-2  3]]\n",
      "\n",
      "Multiplication of given matrix is:\n",
      " [[ 0  6]\n",
      " [35  4]]\n",
      "\n",
      "Transpose of given matrix are:\n",
      " [[1 5]\n",
      " [2 4]] \n",
      "\n",
      " [[0 7]\n",
      " [3 1]]\n"
     ]
    }
   ],
   "source": [
    "import numpy as np\n",
    "\n",
    "matx = np.array([[1,2],[5,4]])\n",
    "maty = np.array([[0,3],[7,1]])\n",
    "\n",
    "print(\"Given Matrix are :\\n\",matx,\"\\n\\n\",maty)\n",
    "print(\"\\nAddition of given matrix is:\\n\", np.add(matx,maty))\n",
    "print(\"\\nSubtraction of given matrix is:\\n\", np.subtract(matx,maty))\n",
    "print(\"\\nMultiplication of given matrix is:\\n\", np.multiply(matx,maty))\n",
    "print(\"\\nTranspose of given matrix are:\\n\", matx.T, \"\\n\\n\", maty.T)"
   ]
  }
 ],
 "metadata": {
  "kernelspec": {
   "display_name": "Python 3",
   "language": "python",
   "name": "python3"
  },
  "language_info": {
   "codemirror_mode": {
    "name": "ipython",
    "version": 3
   },
   "file_extension": ".py",
   "mimetype": "text/x-python",
   "name": "python",
   "nbconvert_exporter": "python",
   "pygments_lexer": "ipython3",
   "version": "3.8.8"
  }
 },
 "nbformat": 4,
 "nbformat_minor": 5
}
