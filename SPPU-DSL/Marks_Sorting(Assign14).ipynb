{
 "cells": [
  {
   "cell_type": "markdown",
   "id": "accef237",
   "metadata": {},
   "source": [
    "# Group B\n",
    "***\n",
    "### Assignment 14\n",
    "Working with Sort Algorithms\n",
    "\n",
    "### Problem Statment\n",
    "Write a Python program to store first year students percentage in array and then do the following on the array.<br>\n",
    "1) Selection Sort <br>\n",
    "2) Bubble sort and display top 5 Score <br>\n",
    "\n",
    "#### Selection Sort -\n",
    "The selection sort algorithm sorts an array by repeatedly finding the minimum element (considering ascending order) from unsorted part and putting it at the beginning. The algorithm maintains two subarrays in a given array. <br>\n",
    "\n",
    "#### Bubble Sort -\n",
    "The bubble sort uses a straightforward logic that works by repeating swapping the adjacent elements if they are not in the right order. It compares one pair at a time and swaps if the first element is greater than the second element; otherwise, move further to the next pair of elements for comparison."
   ]
  },
  {
   "cell_type": "code",
   "execution_count": 42,
   "id": "ee2c3128",
   "metadata": {},
   "outputs": [
    {
     "name": "stdout",
     "output_type": "stream",
     "text": [
      "Unsorted Array is :\n",
      " [67.31, 68.812, 89.1, 59.743, 86.312, 81.076, 75.498, 76.589, 69.791, 95.362, 87.271, 73.662, 96.666, 86.868, 81.255, 59.808, 87.172, 93.426, 93.185, 85.235, 58.33, 96.9, 82.934, 58.697, 93.861, 60.452, 97.093, 87.942, 55.668, 74.462, 57.27, 81.4, 63.94, 66.119, 79.369, 68.526, 73.006, 56.023, 59.71, 73.584, 78.741, 58.95, 58.971, 57.911, 71.846, 84.854, 70.421, 89.087, 79.136, 72.294, 97.982, 90.645, 55.158, 86.871, 80.244, 92.871, 76.97, 61.713, 62.535, 79.731, 96.318, 71.488]\n",
      "\n",
      "Sorted Array using Selection sort is :\n",
      "55.158\t\t55.668\t\t56.023\t\t57.27\t\t57.911\t\t58.33\t\t58.697\t\t58.95\t\t58.971\t\t59.71\t\t59.743\t\t59.808\t\t60.452\t\t61.713\t\t62.535\t\t63.94\t\t66.119\t\t67.31\t\t68.526\t\t68.812\t\t69.791\t\t70.421\t\t71.488\t\t71.846\t\t72.294\t\t73.006\t\t73.584\t\t73.662\t\t74.462\t\t75.498\t\t76.589\t\t76.97\t\t78.741\t\t79.136\t\t79.369\t\t79.731\t\t80.244\t\t81.076\t\t81.255\t\t81.4\t\t82.934\t\t84.854\t\t85.235\t\t86.312\t\t86.868\t\t86.871\t\t87.172\t\t87.271\t\t87.942\t\t89.087\t\t89.1\t\t90.645\t\t92.871\t\t93.185\t\t93.426\t\t93.861\t\t95.362\t\t96.318\t\t96.666\t\t96.9\t\t97.093\t\t97.982\t\t\n",
      "\n",
      "Sorted Array using Bubble sort is :\n",
      "55.158\t\t55.668\t\t56.023\t\t57.27\t\t57.911\t\t58.33\t\t58.697\t\t58.95\t\t58.971\t\t59.71\t\t59.743\t\t59.808\t\t60.452\t\t61.713\t\t62.535\t\t63.94\t\t66.119\t\t67.31\t\t68.526\t\t68.812\t\t69.791\t\t70.421\t\t71.488\t\t71.846\t\t72.294\t\t73.006\t\t73.584\t\t73.662\t\t74.462\t\t75.498\t\t76.589\t\t76.97\t\t78.741\t\t79.136\t\t79.369\t\t79.731\t\t80.244\t\t81.076\t\t81.255\t\t81.4\t\t82.934\t\t84.854\t\t85.235\t\t86.312\t\t86.868\t\t86.871\t\t87.172\t\t87.271\t\t87.942\t\t89.087\t\t89.1\t\t90.645\t\t92.871\t\t93.185\t\t93.426\t\t93.861\t\t95.362\t\t96.318\t\t96.666\t\t96.9\t\t97.093\t\t97.982\t\t\n",
      "\n",
      "Top 5 Scores are : [96.318, 96.666, 96.9, 97.093, 97.982]\n"
     ]
    }
   ],
   "source": [
    "import random\n",
    "\n",
    "stu_perc = []\n",
    "for i in range(random.randint(59,66)):\n",
    "    stu_perc.append(round(random.uniform(55.0,98.9),3))\n",
    "    \n",
    "print(\"Unsorted Array is :\\n\", stu_perc)\n",
    "\n",
    "# Selection sort Function\n",
    "def select_sort():\n",
    "    for i in range(len(stu_perc)):\n",
    "        mini_indx = i\n",
    "        for i2 in range(i+1, len(stu_perc)):\n",
    "            if stu_perc[mini_indx] > stu_perc[i2]:\n",
    "                mini_indx = i2\n",
    "        stu_perc[i], stu_perc[mini_indx] = stu_perc[mini_indx], stu_perc[i]\n",
    "    print(\"\\nSorted Array using Selection sort is :\")\n",
    "    for i3 in range(len(stu_perc)):\n",
    "        print(stu_perc[i3], end=\"\\t\\t\")\n",
    "\n",
    "select_sort()\n",
    "\n",
    "# Bubble sort and displaying top 5 scores\n",
    "def bubble_sort():\n",
    "    n = len(stu_perc)\n",
    "    for i in range(n-1):\n",
    "        for i2 in range(0,n-i-1):\n",
    "            if stu_perc[i2] > stu_perc[i2+1]:\n",
    "                stu_perc[i2], stu_perc[i2+1] = stu_perc[i2+1], stu_perc[i2]\n",
    "    print(\"\\n\\nSorted Array using Bubble sort is :\")\n",
    "    for i3 in range(n):\n",
    "        print(stu_perc[i3], end=\"\\t\\t\")\n",
    "    print(\"\\n\\nTop 5 Scores are :\", stu_perc[-5:])\n",
    "\n",
    "bubble_sort()"
   ]
  }
 ],
 "metadata": {
  "kernelspec": {
   "display_name": "Python 3",
   "language": "python",
   "name": "python3"
  },
  "language_info": {
   "codemirror_mode": {
    "name": "ipython",
    "version": 3
   },
   "file_extension": ".py",
   "mimetype": "text/x-python",
   "name": "python",
   "nbconvert_exporter": "python",
   "pygments_lexer": "ipython3",
   "version": "3.8.8"
  }
 },
 "nbformat": 4,
 "nbformat_minor": 5
}
